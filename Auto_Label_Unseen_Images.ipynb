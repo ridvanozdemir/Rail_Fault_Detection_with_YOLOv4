{
  "nbformat": 4,
  "nbformat_minor": 0,
  "metadata": {
    "colab": {
      "name": "Auto_Label_Unseen_Images.ipynb",
      "provenance": [],
      "collapsed_sections": []
    },
    "kernelspec": {
      "name": "python3",
      "display_name": "Python 3"
    }
  },
  "cells": [
    {
      "cell_type": "code",
      "metadata": {
        "id": "DVv1HbSwM_b5"
      },
      "source": [
        "# download a file  \r\n",
        "def download(path):\r\n",
        "  from google.colab import files\r\n",
        "  files.download(path)"
      ],
      "execution_count": null,
      "outputs": []
    },
    {
      "cell_type": "code",
      "metadata": {
        "id": "EVLW_Tp6OnKH"
      },
      "source": [
        "# copy unlabeled data from drive\r\n",
        "!cp /mydrive/yolov4/Etiketsiz_Test.zip ../"
      ],
      "execution_count": null,
      "outputs": []
    },
    {
      "cell_type": "code",
      "metadata": {
        "id": "K8Q41RrJQfhb"
      },
      "source": [
        "!unzip ../Etiketsiz_Test.zip -d data/"
      ],
      "execution_count": null,
      "outputs": []
    },
    {
      "cell_type": "code",
      "metadata": {
        "id": "tzY9AchyQm8c"
      },
      "source": [
        "# copy generate_etiket_liste.py file to create a list of unlabeled images\r\n",
        "!cp /mydrive/yolov4/generate_etiket_liste.py ./"
      ],
      "execution_count": null,
      "outputs": []
    },
    {
      "cell_type": "code",
      "metadata": {
        "id": "9zrS0XDVQ8Io"
      },
      "source": [
        "!python generate_etiket_liste.py "
      ],
      "execution_count": null,
      "outputs": []
    },
    {
      "cell_type": "code",
      "metadata": {
        "id": "NdG53Ut_DgPS"
      },
      "source": [
        "# label all unseen data using Rail Fault Detector and save the results over 0.3 confidence to json file\n",
        "\n",
        "!./darknet detector test data/obj.data cfg/yolov4-obj.cfg /mydrive/yolov4/backup/yolov4-obj_last.weights -thresh 0.3 -ext_output -dont_show -out result.json < /content/darknet/data/etiket_liste.txt"
      ],
      "execution_count": null,
      "outputs": []
    },
    {
      "cell_type": "code",
      "metadata": {
        "id": "qqFzKT7PWOvs"
      },
      "source": [
        "# download the saved results\r\n",
        "download('result.json')"
      ],
      "execution_count": null,
      "outputs": []
    }
  ]
}